{
 "cells": [
  {
   "cell_type": "markdown",
   "metadata": {},
   "source": [
    "## list of python module index : 파이썬 외장함수 모듈 확인 "
   ]
  },
  {
   "cell_type": "code",
   "execution_count": 1,
   "metadata": {},
   "outputs": [
    {
     "name": "stdout",
     "output_type": "stream",
     "text": [
      "['01_외장함수.ipynb']\n"
     ]
    }
   ],
   "source": [
    "# 외장함수 예제\n",
    "\n",
    "# glob : 경로 내의 폴더 / 파일 목록 조회 (윈도우 dir)\n",
    "import glob\n",
    "print(glob.glob(\"*.ipynb\")) #확장자가 py인 모든 파일 "
   ]
  },
  {
   "cell_type": "code",
   "execution_count": 14,
   "metadata": {},
   "outputs": [
    {
     "name": "stdout",
     "output_type": "stream",
     "text": [
      "c:\\Users\\172559\\나도코딩_파이썬기초\\chapter11_외장함수\n",
      "이미 존재하는 폴더입니다\n",
      "sample_dir 폴더를 삭제하였습니다\n",
      "['01_외장함수.ipynb']\n"
     ]
    }
   ],
   "source": [
    "# os : 운영체제에서 제공하는 기본 기능\n",
    "# 폴더 삭제/ 생성 등등\n",
    "import os\n",
    "print(os.getcwd())   # 현재 디렉토리 표시\n",
    "\n",
    "folder = \"sample_dir\"\n",
    "\n",
    "if os.path.exists(folder):\n",
    "    print(\"이미 존재하는 폴더입니다\")\n",
    "    os.rmdir(folder)\n",
    "    print(folder,\"폴더를 삭제하였습니다\")\n",
    "else:\n",
    "    os.makedirs(folder)\n",
    "    print(folder,\"폴더를 생성하였습니다\")\n",
    "    \n",
    "print(os.listdir())     # 현재 경로의 모든 파일을 출력해줌"
   ]
  },
  {
   "cell_type": "code",
   "execution_count": 20,
   "metadata": {},
   "outputs": [
    {
     "name": "stdout",
     "output_type": "stream",
     "text": [
      "time.struct_time(tm_year=2022, tm_mon=7, tm_mday=21, tm_hour=23, tm_min=37, tm_sec=1, tm_wday=3, tm_yday=202, tm_isdst=0)\n",
      "2022-07-21 23:37:01\n"
     ]
    }
   ],
   "source": [
    "# time : 시간 관련 함수 \n",
    "import time \n",
    "print(time.localtime())\n",
    "print(time.strftime(\"%Y-%m-%d %H:%M:%S\"))   # 년월일 시분초 형식으로 출력 "
   ]
  },
  {
   "cell_type": "code",
   "execution_count": 23,
   "metadata": {},
   "outputs": [
    {
     "name": "stdout",
     "output_type": "stream",
     "text": [
      "오늘 날짜는  2022-07-21\n",
      "우리가 만난지 100일이 되는 날은  2022-10-29\n"
     ]
    }
   ],
   "source": [
    "# datetime\n",
    "import datetime\n",
    "print(\"오늘 날짜는 \",datetime.date.today())\n",
    "\n",
    "# timedelta : 두 날짜 사이의 간격\n",
    "today = datetime.date.today()\n",
    "td = datetime.timedelta(days=100) # 100일저장 \n",
    "print(\"우리가 만난지 100일이 되는 날은 \",today+td)"
   ]
  },
  {
   "cell_type": "code",
   "execution_count": null,
   "metadata": {},
   "outputs": [],
   "source": []
  }
 ],
 "metadata": {
  "kernelspec": {
   "display_name": "Python 3.9.7 ('base')",
   "language": "python",
   "name": "python3"
  },
  "language_info": {
   "codemirror_mode": {
    "name": "ipython",
    "version": 3
   },
   "file_extension": ".py",
   "mimetype": "text/x-python",
   "name": "python",
   "nbconvert_exporter": "python",
   "pygments_lexer": "ipython3",
   "version": "3.9.7"
  },
  "orig_nbformat": 4,
  "vscode": {
   "interpreter": {
    "hash": "8df4e0e0c796e2e15924145e6441c62a115ba500877f31d29fc14fd3395fcd67"
   }
  }
 },
 "nbformat": 4,
 "nbformat_minor": 2
}
