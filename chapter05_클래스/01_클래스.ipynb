{
 "cells": [
  {
   "cell_type": "code",
   "execution_count": null,
   "metadata": {},
   "outputs": [],
   "source": [
    "# 마린 : 공격유닛, 군인, 총을 쏨\n",
    "name = \"marine\"\n",
    "hp = 40\n",
    "damage = 5\n",
    "\n",
    "print(\"{} unit is create , \\nhp : {}\\tdamage: {} \".format(name,hp,damage))"
   ]
  },
  {
   "cell_type": "code",
   "execution_count": null,
   "metadata": {},
   "outputs": [],
   "source": [
    "# 탱크 : 공격유닛, 탱크, 일반/시즈모드\n",
    "tank_name = \"tank\"\n",
    "tank_hp = 150\n",
    "tank_damage = 35\n",
    "print(\"{} unit is create , \\nhp : {}\\tdamage: {} \".format(tank_name,tank_hp,tank_damage))\n",
    "\n",
    "def attack(name, location, damage):\n",
    "    print(\"{} is attack to {} direction. [damage : {} ] \".format(name,location,damage))\n",
    "\n",
    "attack(name,\"01\",damage)\n",
    "attack(tank_name,\"01\",tank_damage)\n",
    "    "
   ]
  },
  {
   "cell_type": "code",
   "execution_count": null,
   "metadata": {},
   "outputs": [],
   "source": [
    "# unit 클래스 \n",
    "# __init__ : 파이썬 생성자 \n",
    "# self : 자기 자신을 의미함 \n",
    "# 멤버변수 중 하나라도 안쓰면 에러 발생 \n",
    "\n",
    "# 일반유닛\n",
    "class unit:\n",
    "    def __init__(self,name,hp,damage):\n",
    "        self.name = name\n",
    "        self.hp = hp\n",
    "        self.damage = damage\n",
    "        print(\"{} unit is create , \\nhp : {}\\tdamage: {} \".format(self.name,self.hp,self.damage))\n",
    "\n",
    "marine1 = unit(\"marine\",40,5)\n",
    "marine2 = unit(\"marine\",40,5)\n",
    "tank1 = unit(\"tank\",150,35)"
   ]
  },
  {
   "cell_type": "code",
   "execution_count": null,
   "metadata": {},
   "outputs": [],
   "source": [
    "# 멤버변수 : 생성된 인스턴스의 변수를 직접 참조가 가능\n",
    "race1 = unit(\"wraith\",80,5)\n",
    "print(\"유닛 이름 : {}\\t공력력 : {} \".format(race1.name, race1.damage))\n",
    "\n",
    "# 외부에서 변수와 값을 할당\n",
    "# python에서는 이렇게 새로운 변수와 값을 선언할 수 있음 ( 해당 인스턴스에서만 ~)\n",
    "race1.clocking = True\n",
    "if race1.clocking ==True:\n",
    "    print(\"{}은 현재 클로킹 상태입니다\".format(race1.name))"
   ]
  },
  {
   "cell_type": "code",
   "execution_count": null,
   "metadata": {},
   "outputs": [],
   "source": [
    "# 메소드 \n",
    "class AttackUnit:\n",
    "    def __init__(self,name,hp,damage):\n",
    "        self.name=name\n",
    "        self.hp=hp\n",
    "        self.damage=damage\n",
    "        \n",
    "    def attack(self, location):\n",
    "        print(\"{} : {} 방향으로 공격. [ 공격력 : {} ]\".format(self.name, location, self.damage))\n",
    "        \n",
    "    def damaged(self,damage):\n",
    "        print(\"{} : {} 데미지를 입음\".format(self.name, damage))\n",
    "        self.hp -= damage\n",
    "        print(\"{} : 현재 체력 {} \".format(self.name, self.hp))\n",
    "        if self.hp<=0:\n",
    "            print(\"{} 파괴 \".format(self.name))\n",
    "            \n",
    "            \n",
    "# 파이어뱃 : 공격 유닛, 화염방사기 \n",
    "firebat1 = AttackUnit(\"파이어뱃\",50,16)\n",
    "firebat1.attack('5시')\n",
    "firebat1.damaged(25)\n",
    "firebat1.damaged(25)"
   ]
  },
  {
   "cell_type": "markdown",
   "metadata": {},
   "source": [
    "## 상속"
   ]
  },
  {
   "cell_type": "code",
   "execution_count": null,
   "metadata": {},
   "outputs": [],
   "source": [
    "# 상속 : 부모의 기능을 자식이 물려받기 \n",
    "class unit:\n",
    "    def __init__(self,name,hp):\n",
    "        self.name = name\n",
    "        self.hp = hp\n",
    "        \n",
    "        \n",
    "# unit클래스를 상속받은 attack클래스\n",
    "class AttackUnit(unit):\n",
    "    def __init__(self,name,hp,damage):\n",
    "        unit.__init__(self,name,hp)\n",
    "        self.damage=damage\n",
    "        \n",
    "    def attack(self, location):\n",
    "        print(\"{} : {} 방향으로 공격. [ 공격력 : {} ]\".format(self.name, location, self.damage))\n",
    "        \n",
    "    def damaged(self,damage):\n",
    "        print(\"{} : {} 데미지를 입음\".format(self.name, damage))\n",
    "        self.hp -= damage\n",
    "        print(\"{} : 현재 체력 {} \".format(self.name, self.hp))\n",
    "        if self.hp<=0:\n",
    "            print(\"{} 파괴 \".format(self.name))\n",
    "            \n",
    "firebat1 = AttackUnit(\"파이어뱃\",50,16)\n",
    "firebat1.attack('5시')\n",
    "firebat1.damaged(25)\n",
    "firebat1.damaged(25)"
   ]
  },
  {
   "cell_type": "markdown",
   "metadata": {},
   "source": [
    "## 다중상속"
   ]
  },
  {
   "cell_type": "code",
   "execution_count": null,
   "metadata": {},
   "outputs": [],
   "source": [
    "# 다중상속 : 2개이상의 클래스를 상속받는 경우  \n",
    "\n",
    "class FlyUnit():\n",
    "    def __init__(self, speed):\n",
    "        self.speed = speed\n",
    "    \n",
    "    def fly(self, name, location):\n",
    "        print(\"{} : {} 방향으로 날아간다. [속도 : {} ] \".format(name, location, self.speed))\n",
    "        \n",
    "        \n",
    "        \n",
    "# 공중공격 클래스\n",
    "class FlyAttackUnit(AttackUnit, FlyUnit):\n",
    "    def __init__(self,name,hp,damage,speed):\n",
    "        AttackUnit.__init__(self,name,hp,damage)\n",
    "        FlyUnit.__init__(self,speed)\n",
    "\n",
    "\n",
    "# 발키리 : 공중 공격 유닛     \n",
    "valkyrie = FlyAttackUnit(\"발키리\",200,6,5)\n",
    "valkyrie.fly(valkyrie.name, \"3시\")    "
   ]
  },
  {
   "cell_type": "markdown",
   "metadata": {},
   "source": [
    "## 연산자 오버라이딩"
   ]
  },
  {
   "cell_type": "code",
   "execution_count": null,
   "metadata": {},
   "outputs": [],
   "source": [
    "# 연산자 오버라이딩 \n",
    "# unit의 move함수를 flyattackunit에서 새롭게 move함수를 지정함 \n",
    "class unit:\n",
    "    def __init__(self,name,hp, speed):\n",
    "        self.name = name\n",
    "        self.hp = hp\n",
    "        self.speed = speed\n",
    "        pritn\n",
    "        \n",
    "        \n",
    "    def move(self, location):\n",
    "        print(\"[지상 유닛 이동]\")\n",
    "        print(\"{} : {} 방향으로 이동 [ 속도 : {} ]\".format(self.name, location, self.speed)) \n",
    "        \n",
    "        \n",
    "class AttackUnit(unit):\n",
    "    def __init__(self,name,hp,damage,speed):\n",
    "        unit.__init__(self,name,hp,speed)\n",
    "        self.damage=damage\n",
    "        \n",
    "    def attack(self, location):\n",
    "        print(\"{} : {} 방향으로 공격. [ 공격력 : {} ]\".format(self.name, location, self.damage))\n",
    "        \n",
    "    def damaged(self,damage):\n",
    "        print(\"{} : {} 데미지를 입음\".format(self.name, damage))\n",
    "        self.hp -= damage\n",
    "        print(\"{} : 현재 체력 {} \".format(self.name, self.hp))\n",
    "        if self.hp<=0:\n",
    "            print(\"{} 파괴 \".format(self.name))\n",
    "            \n",
    "\n",
    "class FlyUnit():\n",
    "    def __init__(self, speed):\n",
    "        self.speed = speed\n",
    "    \n",
    "    def fly(self, name, location):\n",
    "        print(\"{} : {} 방향으로 날아간다. [속도 : {} ] \".format(name, location, self.speed))\n",
    "        \n",
    "        \n",
    "        \n",
    "class FlyAttackUnit(AttackUnit, FlyUnit):\n",
    "    def __init__(self,name,hp,damage,speed):\n",
    "        AttackUnit.__init__(self,name,hp,0,damage)  # 지상 speed는 0으로 처리 \n",
    "        FlyUnit.__init__(self,speed)\n",
    "        \n",
    "    def move(self, location):\n",
    "        print(\"[공중 유닛 이동]\")\n",
    "        self.fly(self.name, location)\n",
    "\n",
    "# 벌쳐 \n",
    "vulture = AttackUnit(\"벌쳐\",80,15,10)\n",
    "\n",
    "# 배틀크루저\n",
    "battlecruser = FlyAttackUnit(\"배틀크루저\",500,25,3)\n",
    "\n",
    "vulture.move(\"11시\")\n",
    "battlecruser.move(\"9시\")"
   ]
  },
  {
   "cell_type": "markdown",
   "metadata": {},
   "source": [
    "## pass"
   ]
  },
  {
   "cell_type": "code",
   "execution_count": null,
   "metadata": {},
   "outputs": [],
   "source": [
    "# pass : 실행이 된것처럼 그냥 넘어가는 기능 \n",
    "class BulidingUnit(unit):\n",
    "    def __init__(self,name,hp,location):\n",
    "        pass\n",
    "    \n",
    "supply_depot = BulidingUnit(\"서플라이\",500,\"7시\")\n",
    "\n",
    "def game_start():\n",
    "    print(\"게임을 시작합니다\")\n",
    "    \n",
    "def game_over():\n",
    "    pass\n",
    "\n",
    "game_start()\n",
    "game_over()"
   ]
  },
  {
   "cell_type": "markdown",
   "metadata": {},
   "source": [
    "## Super\n"
   ]
  },
  {
   "cell_type": "code",
   "execution_count": null,
   "metadata": {},
   "outputs": [],
   "source": [
    "# 단일 상속에서 super \n",
    "class BulidingUnit(unit):\n",
    "    def __init__(self,name,hp,location):\n",
    "        #unit.__init__(self,name,hp,0)\n",
    "        super().__init__(name,hp,0)\n",
    "        self.location = location\n",
    "        \n",
    "\n",
    "# 다중 상속에서  super \n",
    "# 가장 먼저 상속받은 맨 앞의 클래스를 super가 가르킴\n",
    "class unit:\n",
    "    def __init__(self):\n",
    "        print(\"unit 생석자\")     \n",
    "    \n",
    "class Flyable:\n",
    "    def __init__(self):\n",
    "        print(\"Flyable 생석자\")   \n",
    "        \n",
    "          \n",
    "class Flyableunit1(unit,Flyable):\n",
    "    def __init__(self):\n",
    "        super().__init__()\n",
    "             \n",
    "class Flyableunit2(Flyable, unit):\n",
    "    def __init__(self):\n",
    "        super().__init__()  \n",
    "        \n",
    "class Flyableunit3(unit,Flyable):\n",
    "    def __init__(self):\n",
    "        unit.__init__(self)\n",
    "        Flyable.__init__(self)\n",
    "        \n",
    "a = Flyableunit1()\n",
    "b = Flyableunit2()\n",
    "c = Flyableunit3()\n",
    "   "
   ]
  },
  {
   "cell_type": "code",
   "execution_count": null,
   "metadata": {},
   "outputs": [],
   "source": [
    "# 퀴즈 : 부동산 프로그램을 작성 \n",
    "#   출력 예제 \n",
    "#   총 3대의 매물이 있습니다 \n",
    "#   강남 아파트 매매 10억 2010년\n",
    "#   마포 오피스텔 전세 5억 2007년\n",
    "#   송파 빌라 월세 500/50 2000년 \n",
    "\n",
    "class House:\n",
    "    def __init__(self, location, house_type, deal_type, price, completion_year):\n",
    "        self.location = location\n",
    "        self.house_type = house_type\n",
    "        self.deal_type = deal_type\n",
    "        self.price = price\n",
    "        self.completion_year = completion_year\n",
    "        \n",
    "    def show_datail(self):\n",
    "        print(f'{self.location} {self.house_type} {self.deal_type} {self.price} {self.completion_year}년')\n",
    "        \n",
    "        \n",
    "        \n",
    "a = House(\"강남\",\"아파트\",\"매매\",\"10억\",\"2010\")\n",
    "b = House('마포','오피스텔', '전세' ,'5억', '2007')\n",
    "c = House('송파' ,'빌라', '월세', '500/50' ,'2000' )\n",
    "h_list = [a,b,c]\n",
    "print(\"총 {}대의 매물이 있습니다\".format(len(h_list)))\n",
    "for i in h_list:\n",
    "    i.show_datail()"
   ]
  },
  {
   "cell_type": "code",
   "execution_count": null,
   "metadata": {},
   "outputs": [],
   "source": []
  }
 ],
 "metadata": {
  "kernelspec": {
   "display_name": "Python 3.9.7 ('base')",
   "language": "python",
   "name": "python3"
  },
  "language_info": {
   "codemirror_mode": {
    "name": "ipython",
    "version": 3
   },
   "file_extension": ".py",
   "mimetype": "text/x-python",
   "name": "python",
   "nbconvert_exporter": "python",
   "pygments_lexer": "ipython3",
   "version": "3.9.7"
  },
  "orig_nbformat": 4,
  "vscode": {
   "interpreter": {
    "hash": "8df4e0e0c796e2e15924145e6441c62a115ba500877f31d29fc14fd3395fcd67"
   }
  }
 },
 "nbformat": 4,
 "nbformat_minor": 2
}
