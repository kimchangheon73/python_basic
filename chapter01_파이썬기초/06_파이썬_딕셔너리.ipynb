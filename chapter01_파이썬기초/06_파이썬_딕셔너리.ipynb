{
 "cells": [
  {
   "cell_type": "code",
   "execution_count": null,
   "metadata": {},
   "outputs": [],
   "source": [
    "# 딕셔너리 : 키와 값으로 이뤄진 자료형 ( 키에 대한 중복 x )\n",
    "cabinet = {3:\"유재석\",100:\"김태호\"}\n",
    "print(cabinet[3])\n",
    "print(cabinet[100])         # 없는 값 가져오면 에러 발생\n",
    "\n",
    "print(cabinet.get(3))       # 업는 값 가져오면 None출력 \n",
    "print(cabinet.get(100))\n",
    "\n",
    "cabinet[5]=\"정형돈\"         # 새로운 key:value 설정 \n",
    "print(cabinet.get(5))\n",
    "\n",
    "\n",
    "# 손님 여부 판단\n",
    "print(cabinet) \n",
    "print(3 in cabinet)\n",
    "print(4 in cabinet)\n",
    "\n",
    "\n",
    "# 간 손님\n",
    "del cabinet[100]\n",
    "print(cabinet) \n",
    "\n",
    "# Key만 출력\n",
    "print(cabinet.keys())\n",
    "\n",
    "# value만 출력\n",
    "print(cabinet.values())\n",
    "\n",
    "# 둘다 출력\n",
    "print(cabinet.items())\n",
    "\n",
    "# 딕셔너리 폐지\n",
    "cabinet.clear()\n",
    "print(cabinet)"
   ]
  },
  {
   "cell_type": "code",
   "execution_count": null,
   "metadata": {},
   "outputs": [],
   "source": []
  }
 ],
 "metadata": {
  "kernelspec": {
   "display_name": "Python 3.9.7 ('base')",
   "language": "python",
   "name": "python3"
  },
  "language_info": {
   "codemirror_mode": {
    "name": "ipython",
    "version": 3
   },
   "file_extension": ".py",
   "mimetype": "text/x-python",
   "name": "python",
   "nbconvert_exporter": "python",
   "pygments_lexer": "ipython3",
   "version": "3.9.7"
  },
  "orig_nbformat": 4,
  "vscode": {
   "interpreter": {
    "hash": "8df4e0e0c796e2e15924145e6441c62a115ba500877f31d29fc14fd3395fcd67"
   }
  }
 },
 "nbformat": 4,
 "nbformat_minor": 2
}
