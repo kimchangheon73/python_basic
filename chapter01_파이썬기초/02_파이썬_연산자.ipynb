{
 "cells": [
  {
   "cell_type": "code",
   "execution_count": null,
   "metadata": {},
   "outputs": [],
   "source": [
    "# 사칙연산자\n",
    "print(\"더하기 = 1 + 1 : \"+str(1+1))    \n",
    "print(\"빼기 = 3 - 2 : \"+str(3 - 2))\n",
    "print(\"곱하기 = 5 * 2 : \"+str(5*2))\n",
    "print(\"나누기 = 6 / 3 : \"+str(6/3))\n",
    "print(\"나머지 = 6 % 3 : \"+str(6%3))\n",
    "print(\"몫 = 5 // 3 : \"+str(5//3))\n",
    "print(\"나머지 = 5 % 3 : \"+str(5%3))"
   ]
  },
  {
   "cell_type": "code",
   "execution_count": null,
   "metadata": {},
   "outputs": [],
   "source": [
    "# 비교연산자\n",
    "print(3==3)\n",
    "print(3!=3)\n",
    "print(not(3!=3))\n",
    "print(4==2)\n",
    "print(3+7==10)\n",
    "\n",
    "# 복합 비교연산자\n",
    "print(\"and 연산자 : \"+str((3>0) and (3<5)))\n",
    "print(\"and 연산자 : \"+str((3<0) and (3<5)))\n",
    "print(\"or 연산자 : \"+str((3>0) or (3<5)))\n",
    "print(\"or 연산자 : \"+str((3<0) or (3<5)))\n",
    "print(\"or 연산자 : \"+str((3<0) or (3>5)))"
   ]
  },
  {
   "cell_type": "code",
   "execution_count": null,
   "metadata": {},
   "outputs": [],
   "source": [
    "# 수식\n",
    "print(2+3*4)\n",
    "print((2+3)*4)\n",
    "number = 2+3*4\n",
    "print(\"초기 number: \" +str(number))\n",
    "number +=2\n",
    "print(\"number +2 : \" +str(number))\n",
    "number -=2\n",
    "print(\"number -2 : \" +str(number))\n",
    "number *=2\n",
    "print(\"number *2 : \" +str(number))\n",
    "number /=2\n",
    "print(\"number /2 : \" +str(number))\n",
    "number //=2\n",
    "print(\"number //2 : \" +str(number))\n",
    "number %=2\n",
    "print(\"number %2 : \" +str(number))\n"
   ]
  },
  {
   "cell_type": "code",
   "execution_count": null,
   "metadata": {},
   "outputs": [],
   "source": []
  }
 ],
 "metadata": {
  "kernelspec": {
   "display_name": "Python 3.9.7 ('base')",
   "language": "python",
   "name": "python3"
  },
  "language_info": {
   "codemirror_mode": {
    "name": "ipython",
    "version": 3
   },
   "file_extension": ".py",
   "mimetype": "text/x-python",
   "name": "python",
   "nbconvert_exporter": "python",
   "pygments_lexer": "ipython3",
   "version": "3.9.7"
  },
  "orig_nbformat": 4,
  "vscode": {
   "interpreter": {
    "hash": "8df4e0e0c796e2e15924145e6441c62a115ba500877f31d29fc14fd3395fcd67"
   }
  }
 },
 "nbformat": 4,
 "nbformat_minor": 2
}
