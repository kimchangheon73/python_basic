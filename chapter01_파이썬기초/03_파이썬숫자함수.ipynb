{
 "cells": [
  {
   "cell_type": "code",
   "execution_count": null,
   "metadata": {},
   "outputs": [],
   "source": [
    "print(abs(-5)) # 절댓값\n",
    "print(pow(4,2)) # 제곱\n",
    "print(max(1,2,3,4,5)) # 숫자 중 최댓값 \n",
    "print(min(1,2,3,4,5)) # 숫자 중 최댓값 \n",
    "print(round(3.14)) # 반올림(숫자,자릿수)"
   ]
  },
  {
   "cell_type": "code",
   "execution_count": null,
   "metadata": {},
   "outputs": [],
   "source": [
    "from math import *\n",
    "print(floor(4.99)) # 내림\n",
    "print (ceil(3.14)) # 올림\n",
    "print(sqrt(16)) # 제곱근"
   ]
  },
  {
   "cell_type": "code",
   "execution_count": null,
   "metadata": {},
   "outputs": [],
   "source": [
    "# 랜덤함수\n",
    "from random import *\n",
    "print(random()) # 0~1사이의 실수 \n",
    "print(int(random()*10)) # 0~10사이의 정수\n",
    "print(int(random()*10)) # 0~10사이의 정수\n",
    "print(int(random()*10)) # 0~10사이의 정수\n",
    "print(int(random()*10)) # 0~10사이의 정수\n",
    "print(\"\")\n",
    "\n",
    "print(int(random()*10+1)) # 1~11사이의 정수\n",
    "print(int(random()*10+1)) # 1~11사이의 정수\n",
    "print(int(random()*10+1)) # 1~11사이의 정수\n",
    "print(int(random()*10+1)) # 1~11사이의 정수\n",
    "print(\"\")\n",
    "\n",
    "print(int(random()*45) +1 ) # 1~45사이의 임의의 값 \n",
    "print(int(random()*45) +1 ) # 1~45사이의 임의의 값 \n",
    "print(int(random()*45) +1 ) # 1~45사이의 임의의 값 \n",
    "print(int(random()*45) +1 ) # 1~45사이의 임의의 값 \n",
    "print(int(random()*45) +1 ) # 1~45사이의 임의의 값 \n",
    "print(int(random()*45) +1 ) # 1~45사이의 임의의 값 \n",
    "print(\"\")\n",
    "\n",
    "print(randrange(1,46)) # 1~46사이의 임의의 값 \n",
    "print(randrange(1,46)) # 1~46사이의 임의의 값 \n",
    "print(randrange(1,46)) # 1~46사이의 임의의 값 \n",
    "print(randrange(1,46)) # 1~46사이의 임의의 값 \n",
    "print(randrange(1,46)) # 1~46사이의 임의의 값 \n",
    "\n"
   ]
  },
  {
   "cell_type": "markdown",
   "metadata": {},
   "source": [
    "### 퀴즈 2  \n",
    "- 설명 : 월 4회 스터디를 하는데 3번은 온라인 1번은 오프라인으로 하기로 한다. \n",
    "- 조건\n",
    "    - 1 : 랜덤으로 날짜를 뽑는다\n",
    "    - 2 : 일은 2월을 기준으로 최대 28일로 정한다\n",
    "    - 3: 매월 1~3일은 스터디 날짜에서 제외한다 \n",
    "\n",
    "<br>\n",
    "\n",
    "- 결과 : 오프라인 스터디 모임 날짜는 매월 x일로 선정되었습니다."
   ]
  },
  {
   "cell_type": "code",
   "execution_count": 33,
   "metadata": {},
   "outputs": [
    {
     "name": "stdout",
     "output_type": "stream",
     "text": [
      "오프라인 스터디 모임 날짜는 매월 23일로 선정되었습니다\n"
     ]
    }
   ],
   "source": [
    "from random import *\n",
    "date = randrange(4,29)\n",
    "print(\"오프라인 스터디 모임 날짜는 매월 \"+str(date)+\"일로 선정되었습니다\")\n",
    "\n"
   ]
  },
  {
   "cell_type": "code",
   "execution_count": null,
   "metadata": {},
   "outputs": [],
   "source": []
  }
 ],
 "metadata": {
  "kernelspec": {
   "display_name": "Python 3.9.7 ('base')",
   "language": "python",
   "name": "python3"
  },
  "language_info": {
   "codemirror_mode": {
    "name": "ipython",
    "version": 3
   },
   "file_extension": ".py",
   "mimetype": "text/x-python",
   "name": "python",
   "nbconvert_exporter": "python",
   "pygments_lexer": "ipython3",
   "version": "3.9.7"
  },
  "orig_nbformat": 4,
  "vscode": {
   "interpreter": {
    "hash": "8df4e0e0c796e2e15924145e6441c62a115ba500877f31d29fc14fd3395fcd67"
   }
  }
 },
 "nbformat": 4,
 "nbformat_minor": 2
}
