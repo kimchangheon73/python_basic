{
 "cells": [
  {
   "cell_type": "code",
   "execution_count": 4,
   "metadata": {},
   "outputs": [
    {
     "name": "stdout",
     "output_type": "stream",
     "text": [
      "돈까스\n",
      "치즈까스\n",
      "김창현 25 파이썬\n"
     ]
    }
   ],
   "source": [
    "# 튜플 : 자료형이 변경되지 않는 자료형, 고정된 리스트 \n",
    "menu = (\"돈까스\",\"치즈까스\")\n",
    "print(menu[0])\n",
    "print(menu[1])\n",
    "\n",
    " \n",
    "# 한번에 선언하기 \n",
    "(name, age , hobby ) = (\"김창현\",25,\"파이썬\")\n",
    "print(name,age,hobby)"
   ]
  },
  {
   "cell_type": "code",
   "execution_count": 13,
   "metadata": {},
   "outputs": [
    {
     "name": "stdout",
     "output_type": "stream",
     "text": [
      "{1, 2, 3}\n",
      "{'유재석'}\n",
      "{'유재석'}\n",
      "{'유재석', '박명수', '김태호', '양세형'}\n",
      "{'유재석', '박명수', '김태호', '양세형'}\n",
      "{'양세형', '김태호'}\n",
      "{'양세형', '김태호'}\n",
      "{'유재석', '박명수'}\n",
      "{'유재석', '박명수', '김태호'}\n",
      "{'유재석', '양세형', '김태호'}\n",
      "{'유재석', '양세형'}\n"
     ]
    }
   ],
   "source": [
    "# 세트 : 집합 자료형, 중복과 순서가 없는 자료형 \n",
    "my_set  = {1,2,3,3,3}\n",
    "print(my_set)\n",
    "\n",
    "java = {\"유재석\",\"김태호\",\"양세형\"}\n",
    "pyhton = set([\"유재석\",\"박명수\"])\n",
    "\n",
    "# 교집합\n",
    "print(java & pyhton)\n",
    "print(java.intersection(pyhton))\n",
    "\n",
    "# 합칩함\n",
    "print(java | pyhton)\n",
    "print(java.union(pyhton))\n",
    "\n",
    "# 차집합\n",
    "print(java-pyhton)\n",
    "print(java.difference(pyhton))\n",
    "\n",
    "# 데이터 추가\n",
    "print(pyhton)\n",
    "pyhton.add(\"김태호\")\n",
    "print(pyhton)\n",
    "\n",
    "# 데이터 삭제\n",
    "print(java)\n",
    "java.remove(\"김태호\")\n",
    "print(java)"
   ]
  },
  {
   "cell_type": "code",
   "execution_count": null,
   "metadata": {},
   "outputs": [],
   "source": []
  }
 ],
 "metadata": {
  "kernelspec": {
   "display_name": "Python 3.9.7 ('base')",
   "language": "python",
   "name": "python3"
  },
  "language_info": {
   "codemirror_mode": {
    "name": "ipython",
    "version": 3
   },
   "file_extension": ".py",
   "mimetype": "text/x-python",
   "name": "python",
   "nbconvert_exporter": "python",
   "pygments_lexer": "ipython3",
   "version": "3.9.7"
  },
  "orig_nbformat": 4,
  "vscode": {
   "interpreter": {
    "hash": "8df4e0e0c796e2e15924145e6441c62a115ba500877f31d29fc14fd3395fcd67"
   }
  }
 },
 "nbformat": 4,
 "nbformat_minor": 2
}
