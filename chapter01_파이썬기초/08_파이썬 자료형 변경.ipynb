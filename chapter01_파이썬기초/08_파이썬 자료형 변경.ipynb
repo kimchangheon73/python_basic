{
 "cells": [
  {
   "cell_type": "code",
   "execution_count": 2,
   "metadata": {},
   "outputs": [
    {
     "name": "stdout",
     "output_type": "stream",
     "text": [
      "{'우유', '커피', '주스'} <class 'set'>\n",
      "['우유', '커피', '주스'] <class 'list'>\n",
      "('우유', '커피', '주스') <class 'tuple'>\n",
      "{'우유', '커피', '주스'} <class 'set'>\n"
     ]
    }
   ],
   "source": [
    "# 자료구조의 변경\n",
    "# 커피숍\n",
    "menu = {\"커피\",\"우유\",\"주스\"}\n",
    "print(menu, type(menu))\n",
    "\n",
    "menu = list(menu)\n",
    "print(menu, type(menu))\n",
    "\n",
    "menu = tuple(menu)\n",
    "print(menu, type(menu))\n",
    "\n",
    "menu = set(menu)\n",
    "print(menu, type(menu))"
   ]
  },
  {
   "cell_type": "markdown",
   "metadata": {},
   "source": [
    "## 퀴즈 4 : 추첨 프로그램\n",
    "- 1등은 치킨, 3명은 커피 쿠폰을 받음\n",
    "    - 조건 : 편의상 댓글은 20명, 아이디는 1~20\n",
    "    - 조건 : 무작위 추출 \n",
    "    - 조건 : shuffle과 sapmle을 활용\n",
    "        - shuffle : 값을 무작위로 섞음 \n",
    "        - sample : 데이터 중 무작위로 원하는 갯수만큼 뽑음"
   ]
  },
  {
   "cell_type": "code",
   "execution_count": 12,
   "metadata": {},
   "outputs": [
    {
     "name": "stdout",
     "output_type": "stream",
     "text": [
      "치킨 : 13\n",
      "커피 : [10, 19, 1]\n"
     ]
    }
   ],
   "source": [
    "from random import *\n",
    "id_list = [i for i in range(1,21)]\n",
    "shuffle(id_list)\n",
    "price =  sample(id_list,4)\n",
    "print(\"치킨 : \"+str(price[0]))\n",
    "print(\"커피 : \"+str(price[1:]))"
   ]
  },
  {
   "cell_type": "code",
   "execution_count": null,
   "metadata": {},
   "outputs": [],
   "source": []
  }
 ],
 "metadata": {
  "kernelspec": {
   "display_name": "Python 3.9.7 ('base')",
   "language": "python",
   "name": "python3"
  },
  "language_info": {
   "codemirror_mode": {
    "name": "ipython",
    "version": 3
   },
   "file_extension": ".py",
   "mimetype": "text/x-python",
   "name": "python",
   "nbconvert_exporter": "python",
   "pygments_lexer": "ipython3",
   "version": "3.9.7"
  },
  "orig_nbformat": 4,
  "vscode": {
   "interpreter": {
    "hash": "8df4e0e0c796e2e15924145e6441c62a115ba500877f31d29fc14fd3395fcd67"
   }
  }
 },
 "nbformat": 4,
 "nbformat_minor": 2
}
