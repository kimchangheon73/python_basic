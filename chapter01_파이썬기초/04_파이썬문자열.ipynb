{
 "cells": [
  {
   "cell_type": "code",
   "execution_count": null,
   "metadata": {},
   "outputs": [],
   "source": [
    "# 문자열\n",
    "sentence = \"나는 소년입니다\"\n",
    "print(sentence)\n",
    "sentence2 = \"파이썬은 쉬워요\"\n",
    "print(sentence2)\n",
    "sentence3 = \"\"\"\n",
    "나는 소년입니다. 파이썬은 쉬어요\n",
    "\"\"\"\n",
    "print(sentence3)\n"
   ]
  },
  {
   "cell_type": "code",
   "execution_count": null,
   "metadata": {},
   "outputs": [],
   "source": [
    "# 슬라이딩 : 문자열에서 원하는 문자열부분만 추출하는 것 \n",
    "jumin = \"990120-1234567\"\n",
    "print(\"성별 : \"+jumin[7])\n",
    "print(\"연 : \"+jumin[0:2])\n",
    "print(\"월 : \"+jumin[2:4])\n",
    "print(\"일 : \"+jumin[4:6])\n",
    "print(\"생년월일 : \"+jumin[:6])\n",
    "print(\"뒷자리 : \"+jumin[7:])\n",
    "print(\"뒷자리(뒤부터) : \" +jumin[-7:])"
   ]
  },
  {
   "cell_type": "code",
   "execution_count": null,
   "metadata": {},
   "outputs": [],
   "source": [
    "# 문자열 함수\n",
    "python = \"Python Is Amazing\"\n",
    "print(python.lower())                   # 소문자 변환\n",
    "print(python.upper())                   # 대문자변환\n",
    "print(python[0].isupper())              # 대문자여부\n",
    "print(len(python))                      # 문자 길이\n",
    "print(python.replace(\"Python\",\"Java\"))  # 문자 변환 \n",
    "print(python.index(\"n\"))                # 특정 문자의 인덱스 위치\n",
    "print(python.index(\"n\",6))              # 특정 문자의 인덱스 위치( 인덱스 6부터 )\n",
    "print(python.find(\"n\"))                 # 특정 문자 인덱스 찾기 \n",
    "print(python.find(\"java\"))              # 찾는 문자 없을땐 -1 반환 (index는 없으면 오류발생)\n"
   ]
  },
  {
   "cell_type": "code",
   "execution_count": null,
   "metadata": {},
   "outputs": [],
   "source": [
    "# 문자열 포멧팅1 - %포멧팅  \n",
    "print(\"나는 %d살입니다\"   %25)                  # 숫자형\n",
    "print(\"나는 %s를 좋아합니다\"   %\"Python\")       # 문자형\n",
    "print(\"Apple은 %c로 시작해요\"  %\"A\")            # 한글자만\n",
    "print(\"나는 %s과 %s 둘다 좋아해요\"%(\"강아지\",\"고양이\"))    # 문자열 2개 포멧팅\n",
    "\n",
    "# 문자열 포멧팅 - {}.format\n",
    "print(\"나는 {}살입니다\".format(25))\n",
    "print(\"나는 {}색과 {}색을 좋아해요\".format(\"파랑\",\"빨강\"))      # 순서대로 입력\n",
    "print(\"나는 {0}색과 {1}색을 좋아해요\".format(\"파랑\",\"빨강\"))    # 순서를 지정\n",
    "print(\"나는 {1}색과 {0}색을 좋아해요\".format(\"파랑\",\"빨강\"))    # 순서를 바꿈\n",
    "\n",
    "print(\"코코는 {age}살이며, {like}을 좋아해요\".format(age=12, like=\"개껌\"))  # 변수를 지정한 포멧팅\n",
    "\n",
    "# 문자열 포멧팅 - f{}포멧팅\n",
    "age = 25\n",
    "types = \"poodle\"\n",
    "print(f'coco is {types} and age is {age} years old')"
   ]
  },
  {
   "cell_type": "code",
   "execution_count": null,
   "metadata": {},
   "outputs": [],
   "source": [
    "# 탈출문자 \n",
    "print(\"백문이 불여일견 \\n백문이 불여일타 \")     # \\n  : 줄바꿈\n",
    "print(\"저의 이름은 \\\"김창현\\\"입니다\")          # \\ : 문자 내에 \"을 출력하기 위한 탈출문자\n",
    "print(\"저의 이름은 \\'김창현\\'입니다\")           \n",
    "\n",
    "print(\"C:\\\\program\\\\바탕화면\")\n",
    "print(\"Red Apple \\rpine\")                   # \\r : 맨앞으로 커서를 이동해서 글자를 재입력 \n",
    "print(\"Red\\bApple\")                         # \\b : 한글자 삭제\n",
    "print(\"red\\tapple\")                         # \\t : 4칸 탭 \n",
    "\n"
   ]
  },
  {
   "cell_type": "markdown",
   "metadata": {},
   "source": [
    "### 퀴즈 3 : 사이트별로 비밀번호를 만들어주는 프로그램을 작성하시오\n",
    "- 예시 : https://naver.com\n",
    "    - 규칙 1 : https:// 부분 제외\n",
    "    - 규칙 2 : 처음마나는 점 이후 부분은 제외 \n",
    "    - 규칙 3 : 남은 글자 중 처음 셋자리 + 글자 갯수 + 글자 내 'e'의 갯수 + \"!\"으로 구성 \n",
    "    - 생성 예시 : nav51!"
   ]
  },
  {
   "cell_type": "code",
   "execution_count": 55,
   "metadata": {},
   "outputs": [
    {
     "name": "stdout",
     "output_type": "stream",
     "text": [
      "%s사이트: http://google.com\n",
      "비밀번호 : goo61!\n",
      "비밀번호 : goo61i\n"
     ]
    }
   ],
   "source": [
    "# 내가 한 방법 \n",
    "site_address = \"http://google.com\"\n",
    "h_exp_address = site_address.split(\"//\")[-1]\n",
    "dot_exp_address = h_exp_address.split(\".\")[0]\n",
    "address_password = dot_exp_address[:3] + str(len(dot_exp_address)) + str(dot_exp_address.count(\"e\")) + \"!\"\n",
    "print(\"%s사이트: \"+site_address)\n",
    "print(\"비밀번호 : %s\"%address_password)\n",
    "\n",
    "\n",
    "# 두번째 방법\n",
    "my_str = site_address.replace(\"http://\",\"\")\n",
    "my_str = my_str[:my_str.index(\".\")]\n",
    "my_str = my_str[:3] + str(len(my_str)) + str(my_str.count(\"e\"))+\"i\"\n",
    "print(\"비밀번호 : \"+my_str)"
   ]
  },
  {
   "cell_type": "code",
   "execution_count": null,
   "metadata": {},
   "outputs": [],
   "source": []
  }
 ],
 "metadata": {
  "kernelspec": {
   "display_name": "Python 3.9.7 ('base')",
   "language": "python",
   "name": "python3"
  },
  "language_info": {
   "codemirror_mode": {
    "name": "ipython",
    "version": 3
   },
   "file_extension": ".py",
   "mimetype": "text/x-python",
   "name": "python",
   "nbconvert_exporter": "python",
   "pygments_lexer": "ipython3",
   "version": "3.9.7"
  },
  "orig_nbformat": 4,
  "vscode": {
   "interpreter": {
    "hash": "8df4e0e0c796e2e15924145e6441c62a115ba500877f31d29fc14fd3395fcd67"
   }
  }
 },
 "nbformat": 4,
 "nbformat_minor": 2
}
