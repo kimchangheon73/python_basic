{
 "cells": [
  {
   "cell_type": "code",
   "execution_count": null,
   "metadata": {},
   "outputs": [],
   "source": [
    "# 리스트 : 한 변수안에 여러개의 데이터를 연속적인 공간에 담게되는 자료형\n",
    "\n",
    "subway = [1,2,3]\n",
    "print(subway)\n",
    "\n",
    "subway = [\"유재석\",\"조세호\",\"박명수\"]\n",
    "print(subway)\n",
    "\n",
    "                               \n",
    "print(subway.index(\"조세호\"))   # 조세호 씨가 몇 번째 칸에 타고 있는가?\n",
    "\n",
    "\n",
    "subway.append(\"하하\")           # 하하씨가 다음 정류장에서 탐\n",
    "print(subway)\n",
    "\n",
    "subway.insert(1,\"정형돈\")       # 정형돈 씨가 유재석 뒤에 탐\n",
    "print(subway)\n",
    "\n",
    "print(subway.pop())             # 한명씩 뒤에서 꺼냄\n",
    "print(subway)\n",
    "\n",
    "subway.append(\"유재석\")         # 같은 이름의 사람이 몇명 있는지 확인\n",
    "print(subway.count(\"유재석\"))\n",
    "\n",
    "num_list = [1,5,3,4,5]          # 정렬 가능\n",
    "\n",
    "num_list.sort()\n",
    "print('정렬 : '+str(num_list) )\n",
    "num_list.reverse()\n",
    "print('역정렬 : '+str(num_list) )\n",
    "\n",
    "num_list.clear()                # 모두 지우기\n",
    "print(\"전체 삭제 : \"+str(num_list))\n",
    "\n",
    "\n",
    "# 다양한 자료형과 섞어서 사용가능\n",
    "mix_list = [\"김창현\",123, True, 3.14, 'C']\n",
    "print(mix_list)\n",
    "\n",
    "# 리스트 확장\n",
    "num_list = [1,2,3,4,5]\n",
    "num_list.extend(mix_list)\n",
    "print(num_list)"
   ]
  }
 ],
 "metadata": {
  "kernelspec": {
   "display_name": "Python 3.9.7 ('base')",
   "language": "python",
   "name": "python3"
  },
  "language_info": {
   "name": "python",
   "version": "3.9.7"
  },
  "orig_nbformat": 4,
  "vscode": {
   "interpreter": {
    "hash": "8df4e0e0c796e2e15924145e6441c62a115ba500877f31d29fc14fd3395fcd67"
   }
  }
 },
 "nbformat": 4,
 "nbformat_minor": 2
}
