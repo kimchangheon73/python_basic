{
 "cells": [
  {
   "cell_type": "code",
   "execution_count": null,
   "metadata": {},
   "outputs": [],
   "source": [
    "# 숫자 자료형\n",
    "print(\"실수 : \",5) \n",
    "print(\"음수 : \",-10)\n",
    "print(\"소수 : \",3.14)\n",
    "print(\"덧셈 : \",5+3)\n",
    "print(\"곱하기 : \",8*9)\n",
    "print(\"우선 연산자 : \",8+(9*7))"
   ]
  },
  {
   "cell_type": "code",
   "execution_count": null,
   "metadata": {},
   "outputs": [],
   "source": [
    "# 문자형 자료형\n",
    "print(\"큰 따옴표 : 풍선\")\n",
    "print('작은 따옴표 : 풍선')\n",
    "print(\"문자열 반복 : \" + \"풍선\"*9)\n"
   ]
  },
  {
   "cell_type": "code",
   "execution_count": null,
   "metadata": {},
   "outputs": [],
   "source": [
    "# boolean 연산자\n",
    "print(\"거짓 : \",5>10)\n",
    "print(\"참 : \",5<10)\n",
    "print(\"거짓 : \",5==10)\n",
    "print(\"참 : \",5!=10)\n",
    "print(\"참의 반대 :\", not True)\n",
    "print(\"거짓의 반대 :\", not False)"
   ]
  },
  {
   "cell_type": "code",
   "execution_count": null,
   "metadata": {},
   "outputs": [],
   "source": [
    "# 변수 : 값을 저장하는 공간, 특정한 값을 기억하고 있는 공간 \n",
    "# 예제 : 반려동물의 종, 이름, 나이, 산책, 어르신 여부를 출력하세요 \n",
    "animal_type = \"푸들\"\n",
    "animal_name = \"코코\"\n",
    "animal_age = '11'\n",
    "animal_hobby = \"산책\"\n",
    "animal_adult = True\n",
    "\n",
    "print(\"우리집 강아지는 \"+animal_type+\"이고 이름은 \"+animal_name+\"입니다\")\n",
    "print(animal_name+\"의 나이는 \"+animal_age+\"살 입니다\")\n",
    "print(animal_name+\"의 취미는 \"+animal_hobby+\" 입니다\")\n",
    "print(animal_name+\"은 어르신 인가요? \"+str(animal_adult))"
   ]
  },
  {
   "cell_type": "markdown",
   "metadata": {},
   "source": [
    "### 퀴즈1 : 변수를 이용한 다음 문장을 출력 \n",
    "- 변수명 : station\n",
    "- 변수값 : 사당, 신도림, 인천공항 순서대로 입력 \n",
    "- 출력문장 : xx행 열차가 들어오고 있습니다 "
   ]
  },
  {
   "cell_type": "code",
   "execution_count": 28,
   "metadata": {},
   "outputs": [
    {
     "name": "stdout",
     "output_type": "stream",
     "text": [
      "사당행 열차가 들어오고 있습니다\n",
      "신도림행 열차가 들어오고 있습니다\n",
      "인천공항행 열차가 들어오고 있습니다\n"
     ]
    }
   ],
   "source": [
    "station = \"사당\"\n",
    "print(station+\"행 열차가 들어오고 있습니다\")\n",
    "\n",
    "station = \"신도림\"\n",
    "print(station+\"행 열차가 들어오고 있습니다\")\n",
    "\n",
    "station = \"인천공항\"\n",
    "print(station+\"행 열차가 들어오고 있습니다\")"
   ]
  },
  {
   "cell_type": "code",
   "execution_count": null,
   "metadata": {},
   "outputs": [],
   "source": []
  }
 ],
 "metadata": {
  "kernelspec": {
   "display_name": "Python 3.9.7 ('base')",
   "language": "python",
   "name": "python3"
  },
  "language_info": {
   "codemirror_mode": {
    "name": "ipython",
    "version": 3
   },
   "file_extension": ".py",
   "mimetype": "text/x-python",
   "name": "python",
   "nbconvert_exporter": "python",
   "pygments_lexer": "ipython3",
   "version": "3.9.7"
  },
  "orig_nbformat": 4,
  "vscode": {
   "interpreter": {
    "hash": "8df4e0e0c796e2e15924145e6441c62a115ba500877f31d29fc14fd3395fcd67"
   }
  }
 },
 "nbformat": 4,
 "nbformat_minor": 2
}
