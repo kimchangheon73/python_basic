{
 "cells": [
  {
   "cell_type": "code",
   "execution_count": null,
   "metadata": {},
   "outputs": [],
   "source": [
    "score_file = open(\"score.txt\",\"w\",encoding=\"utf8\")  # w : 새로 덮어쓰기 \n",
    "print(\"수학 : 0\",file=score_file)\n",
    "print(\"영어 : 50\",file=score_file)\n",
    "score_file.close()"
   ]
  },
  {
   "cell_type": "code",
   "execution_count": null,
   "metadata": {},
   "outputs": [],
   "source": [
    "score_file = open(\"score.txt\",\"a\",encoding=\"utf8\") # a : 존재하는 파일에 엎어 쓰기 \n",
    "score_file.write(\"과학 : 80\")\n",
    "score_file.write(\"\\n코딩 : 100\")\n",
    "score_file.close()"
   ]
  },
  {
   "cell_type": "code",
   "execution_count": null,
   "metadata": {},
   "outputs": [],
   "source": [
    "score_file = open(\"score.txt\",\"r\",encoding=\"utf8\")  # r : 파일 읽기\n",
    "print(score_file.read())                            # read : 한번에 읽기\n",
    "score_file.close()"
   ]
  },
  {
   "cell_type": "code",
   "execution_count": null,
   "metadata": {},
   "outputs": [],
   "source": [
    "score_file = open(\"score.txt\",\"r\",encoding=\"utf8\")\n",
    "print(score_file.readline())                        # readline : 줄별로 읽기 동작, 한줄 읽고 커서는 당름 줄로 이동 \n",
    "print(score_file.readline()) \n",
    "print(score_file.readline()) \n",
    "print(score_file.readline()) \n",
    "score_file.close()"
   ]
  },
  {
   "cell_type": "code",
   "execution_count": null,
   "metadata": {},
   "outputs": [],
   "source": [
    "score_file = open(\"score.txt\",\"r\",encoding=\"utf8\")\n",
    "while True:\n",
    "    line = score_file.readline()\n",
    "    if not line:\n",
    "        break\n",
    "    else:\n",
    "        print(line, end=\"\")\n",
    "score_file.close()"
   ]
  },
  {
   "cell_type": "code",
   "execution_count": null,
   "metadata": {},
   "outputs": [],
   "source": [
    "score_file = open(\"score.txt\",\"r\",encoding=\"utf8\")\n",
    "lines = score_file.readlines()                  # list형태로 저장\n",
    "for i in lines:\n",
    "    print(i,end=\"\")\n",
    "    \n",
    "score_file.close()"
   ]
  },
  {
   "cell_type": "code",
   "execution_count": null,
   "metadata": {},
   "outputs": [],
   "source": []
  }
 ],
 "metadata": {
  "kernelspec": {
   "display_name": "Python 3.9.7 ('base')",
   "language": "python",
   "name": "python3"
  },
  "language_info": {
   "codemirror_mode": {
    "name": "ipython",
    "version": 3
   },
   "file_extension": ".py",
   "mimetype": "text/x-python",
   "name": "python",
   "nbconvert_exporter": "python",
   "pygments_lexer": "ipython3",
   "version": "3.9.7"
  },
  "orig_nbformat": 4,
  "vscode": {
   "interpreter": {
    "hash": "8df4e0e0c796e2e15924145e6441c62a115ba500877f31d29fc14fd3395fcd67"
   }
  }
 },
 "nbformat": 4,
 "nbformat_minor": 2
}
