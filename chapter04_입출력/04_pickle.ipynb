{
 "cells": [
  {
   "cell_type": "code",
   "execution_count": null,
   "metadata": {},
   "outputs": [],
   "source": [
    "import pickle                      # 파일을 읽고 쓰기 위한 라이브러리\n",
    "profile_file = open(\"profile.pickle\",'wb')      # wb : 피클을 사용하기 위한 바이너리 타입\n",
    "profile = {\"name\" : \"kim\",\"age\":25 , \"hobby\":[\"soccer\",\"golf\",\"coding\"]}\n",
    "print(profile)\n",
    "pickle.dump(profile, profile_file) # profile에 정보를 file에 저장\n",
    "profile_file.close()"
   ]
  },
  {
   "cell_type": "code",
   "execution_count": null,
   "metadata": {},
   "outputs": [],
   "source": [
    "profile_file = open(\"profile.pickle\",'rb')      # rb : 읽기위한 바이너리 타입\n",
    "profile = pickle.load(profile_file)             # pickle.load : 파일에 있는 정보를 profile에 불러오기 \n",
    "print(profile)\n",
    "profile_file.close()"
   ]
  },
  {
   "cell_type": "code",
   "execution_count": null,
   "metadata": {},
   "outputs": [],
   "source": []
  }
 ],
 "metadata": {
  "kernelspec": {
   "display_name": "Python 3.9.7 ('base')",
   "language": "python",
   "name": "python3"
  },
  "language_info": {
   "codemirror_mode": {
    "name": "ipython",
    "version": 3
   },
   "file_extension": ".py",
   "mimetype": "text/x-python",
   "name": "python",
   "nbconvert_exporter": "python",
   "pygments_lexer": "ipython3",
   "version": "3.9.7"
  },
  "orig_nbformat": 4,
  "vscode": {
   "interpreter": {
    "hash": "8df4e0e0c796e2e15924145e6441c62a115ba500877f31d29fc14fd3395fcd67"
   }
  }
 },
 "nbformat": 4,
 "nbformat_minor": 2
}
