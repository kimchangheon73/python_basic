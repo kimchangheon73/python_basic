{
 "cells": [
  {
   "cell_type": "code",
   "execution_count": null,
   "metadata": {},
   "outputs": [],
   "source": [
    "import pickle\n",
    "\n",
    "with open (\"profile.pickle\",\"rb\") as f:\n",
    "    print(pickle.load(f))"
   ]
  },
  {
   "cell_type": "code",
   "execution_count": null,
   "metadata": {},
   "outputs": [],
   "source": [
    "with open (\"study.txt\",\"w\",encoding=\"utf8\") as f:\n",
    "    f.write(\"파이썬을 열심히 공부하고 있어요\")\n",
    "    f.close()   "
   ]
  },
  {
   "cell_type": "code",
   "execution_count": null,
   "metadata": {},
   "outputs": [],
   "source": [
    "with open (\"study.txt\",\"r\",encoding=\"utf8\") as f:\n",
    "    print(f.readline())"
   ]
  },
  {
   "cell_type": "markdown",
   "metadata": {},
   "source": [
    "## 퀴즈 : 업무보고서 작성 프로그램을 작성하시오 \n",
    "\n",
    "- --x 주차 주간보고 --\n",
    "- 부서 : \n",
    "- 이름 : \n",
    "- 업무 요약 :  \n",
    "\n",
    "#### 1주차 부터 50주차까지의 보고서 파일을 만드는 프로그램을 작성하시오 \n",
    "- 조건 : 파일명은 \"1주차.txt\", \"2주차.txt\" --- 처럼 만듭니다\n"
   ]
  },
  {
   "cell_type": "code",
   "execution_count": 13,
   "metadata": {},
   "outputs": [],
   "source": [
    "import pickle\n",
    "for i in range(1,51):\n",
    "    with open (\"{}주차.txt\".format(i),\"w\",encoding=\"utf8\") as f:\n",
    "        f.write(\"- {}주차 주간보고 - \\n부서 :\\n이름 :\\n업무 요약 :\".format(i))\n",
    "        f.close()"
   ]
  }
 ],
 "metadata": {
  "kernelspec": {
   "display_name": "Python 3.9.7 ('base')",
   "language": "python",
   "name": "python3"
  },
  "language_info": {
   "codemirror_mode": {
    "name": "ipython",
    "version": 3
   },
   "file_extension": ".py",
   "mimetype": "text/x-python",
   "name": "python",
   "nbconvert_exporter": "python",
   "pygments_lexer": "ipython3",
   "version": "3.9.7"
  },
  "orig_nbformat": 4,
  "vscode": {
   "interpreter": {
    "hash": "8df4e0e0c796e2e15924145e6441c62a115ba500877f31d29fc14fd3395fcd67"
   }
  }
 },
 "nbformat": 4,
 "nbformat_minor": 2
}
