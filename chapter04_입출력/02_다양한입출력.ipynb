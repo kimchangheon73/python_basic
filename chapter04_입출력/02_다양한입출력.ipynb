{
 "cells": [
  {
   "cell_type": "code",
   "execution_count": null,
   "metadata": {},
   "outputs": [],
   "source": [
    "# 빈 자리는 빈공간으로, 기본 오른쪽 정렬을 하되, 총 10자리 공간을 확보\n",
    "print(\"{0:10}\".format(500))\n",
    "\n",
    "# 양수일땐 +로, 음수일땐 -로 표시 :  +를 이용해 양수이건 음수이건 부호를 표시하게 함 \n",
    "print(\"{0:>+10}\".format(500))\n",
    "print(\"{0:>+10}\".format(-500))\n",
    "\n",
    "# 왼쪽 정렬하고, 빈칸을 _으로 채움 \n",
    "print(\"{0:_<+10}\".format(500))\n",
    "\n",
    "# 3자리 마다 콤마를 찍어주기 \n",
    "print(\"{0:,}\".format(100000000000000))\n",
    "\n",
    "# 3자리 마다 콤마를 찍고 부호도 쓰기  \n",
    "print(\"{0:+,}\".format(100000000000000))\n",
    "print(\"{0:+,}\".format(-100000000000000))\n",
    "\n",
    "# 3자리 마다 콤마를 찍고 부호도 쓰고 자리수도 확보 \n",
    "# 돈이 많으면 기분이 좋으니 빈자리는 ^으로 표시 \n",
    "print(\"{0:^<+30,}\".format(1518564894894861651))\n",
    "\n",
    "\n",
    "# 소수점 출력 \n",
    "print(\"{0:f}\".format(5/3))      # 소수 출력 \n",
    "print(\"{0:.2f}\".format(5/3))    # 특정 자리까지만 출력 "
   ]
  },
  {
   "cell_type": "code",
   "execution_count": null,
   "metadata": {},
   "outputs": [],
   "source": []
  }
 ],
 "metadata": {
  "kernelspec": {
   "display_name": "Python 3.9.7 ('base')",
   "language": "python",
   "name": "python3"
  },
  "language_info": {
   "codemirror_mode": {
    "name": "ipython",
    "version": 3
   },
   "file_extension": ".py",
   "mimetype": "text/x-python",
   "name": "python",
   "nbconvert_exporter": "python",
   "pygments_lexer": "ipython3",
   "version": "3.9.7"
  },
  "orig_nbformat": 4,
  "vscode": {
   "interpreter": {
    "hash": "8df4e0e0c796e2e15924145e6441c62a115ba500877f31d29fc14fd3395fcd67"
   }
  }
 },
 "nbformat": 4,
 "nbformat_minor": 2
}
