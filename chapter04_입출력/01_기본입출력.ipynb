{
 "cells": [
  {
   "cell_type": "code",
   "execution_count": null,
   "metadata": {},
   "outputs": [],
   "source": [
    "print(\"Python\",\"Kava\")          # 문자열 간의 콤마는 한칸 띄기 \n",
    "print(\"Python\"+\"Kava\")          # +는 붙이기\n",
    "\n",
    "print(\"Python\",\"Kava\", sep=\",\") # sep : 각 문자열 구분하기 \n",
    "print(\"Python\",\"Kava\", end=\"?\") # end : 문장의 끝 부분 지정 (default : 줄바꿈)"
   ]
  },
  {
   "cell_type": "code",
   "execution_count": null,
   "metadata": {},
   "outputs": [],
   "source": [
    "import sys  \n",
    "print(\"python\",\"java\",file=sys.stdout)      # 표준 출력( 크게 신경 x ) \n",
    "\n",
    "print(\"python\",\"java\",file=sys.stderr)      # 표준 에러( 로그 처리할 때 빠른 코드 수정을 위해 사용 )"
   ]
  },
  {
   "cell_type": "code",
   "execution_count": null,
   "metadata": {},
   "outputs": [],
   "source": [
    "# 출력 포멧\n",
    "scores = {\"수학\":0, \"영어\":50, \"코딩\":100}\n",
    "for sub,score in scores.items():\n",
    "    print(sub.ljust(8),str(score).rjust(4), sep=\":\")       # ljust() / rjust() : 문자열 길이를 지정\n",
    "    "
   ]
  },
  {
   "cell_type": "code",
   "execution_count": null,
   "metadata": {},
   "outputs": [],
   "source": [
    "# 은행 대기 순번 : 001, 002. 003 ~~~~~\n",
    "for i in range(1,21):\n",
    "    print(\"대기번호 : \"+str(i).zfill(3))        # zfill(n) : n개의 공간을 차지하여 부족한 부분은 0으로 채움"
   ]
  },
  {
   "cell_type": "code",
   "execution_count": null,
   "metadata": {},
   "outputs": [],
   "source": [
    "answer = input(\"아무 값이나 입력하세요 : \")      # input은 항상 문자형임 \n",
    "print(\"입력하신 값 : \",answer)"
   ]
  },
  {
   "cell_type": "code",
   "execution_count": null,
   "metadata": {},
   "outputs": [],
   "source": []
  }
 ],
 "metadata": {
  "kernelspec": {
   "display_name": "Python 3.9.7 ('base')",
   "language": "python",
   "name": "python3"
  },
  "language_info": {
   "codemirror_mode": {
    "name": "ipython",
    "version": 3
   },
   "file_extension": ".py",
   "mimetype": "text/x-python",
   "name": "python",
   "nbconvert_exporter": "python",
   "pygments_lexer": "ipython3",
   "version": "3.9.7"
  },
  "orig_nbformat": 4,
  "vscode": {
   "interpreter": {
    "hash": "8df4e0e0c796e2e15924145e6441c62a115ba500877f31d29fc14fd3395fcd67"
   }
  }
 },
 "nbformat": 4,
 "nbformat_minor": 2
}
