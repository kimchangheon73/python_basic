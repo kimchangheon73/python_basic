{
 "cells": [
  {
   "cell_type": "code",
   "execution_count": null,
   "metadata": {},
   "outputs": [],
   "source": [
    "# 예외처리 : 에러가 발생했을 때 처리하는 방법\n",
    "try:\n",
    "    print(\"나누기 전용 계산기\")\n",
    "    num1 = int(input(\"첫번째 숫자 : \"))\n",
    "    num2 = int(input(\"두번째 숫자 : \")) \n",
    "    print(\" {} / {} = {}\".format(num1,num2,num1/num2))\n",
    "except ValueError:\n",
    "    print(\"에러가 발생 ~ 잘못된 값을 입력하였습니다\")\n",
    "    \n",
    "except ZeroDivisionError:\n",
    "    print(ZeroDivisionError)\n",
    "    \n",
    "except:\n",
    "    print(\"알수없는 에러\")"
   ]
  },
  {
   "cell_type": "code",
   "execution_count": null,
   "metadata": {},
   "outputs": [],
   "source": [
    "# 의도적으로 에러를 발생 : raise \n",
    "try:\n",
    "    print(\"한 자리 숫자 나누기 전용 계산기\")\n",
    "    num1 = int(input(\"첫번째 숫자 : \"))\n",
    "    num2 = int(input(\"두번째 숫자 : \"))\n",
    "    if num1>10 or num2>=10:\n",
    "        raise ValueError\n",
    "    print(\" {} / {} = {}\".format(num1,num2,num1/num2))\n",
    "    \n",
    "except ValueError:\n",
    "    print(\"잘못된 값을 입력하였습니다. 한 자리 숫자만 입력하세요.\")\n",
    "    "
   ]
  },
  {
   "cell_type": "code",
   "execution_count": null,
   "metadata": {},
   "outputs": [],
   "source": [
    "# 사용자 정의 예외 처리 : 직접 정의한 에러처피\n",
    "class BigNumberError(Exception):\n",
    "    def __init__(self,msg):\n",
    "        self.msg=msg\n",
    "    \n",
    "    def __str__(self):\n",
    "        return self.msg\n",
    "    \n",
    "try:\n",
    "    print(\"한 자리 숫자 나누기 전용 계산기\")\n",
    "    num1 = int(input(\"첫번째 숫자 : \"))\n",
    "    num2 = int(input(\"두번째 숫자 : \"))\n",
    "    if num1>10 or num2>=10:\n",
    "        raise BigNumberError(\"입력값 : {}, {}\".format(str(num1),str(num2)))\n",
    "    print(\" {} / {} = {}\".format(num1,num2,num1/num2))\n",
    "    \n",
    "except ValueError:\n",
    "    print(\"잘못된 값을 입력하였습니다. 한 자리 숫자만 입력하세요.\")\n",
    "    \n",
    "except BigNumberError:\n",
    "    print(\"에러가 발생했습니다. 한자리 숫자만 입력하세용\")\n",
    "    print(BigNumberError)"
   ]
  },
  {
   "cell_type": "code",
   "execution_count": null,
   "metadata": {},
   "outputs": [],
   "source": [
    "# finally : 정상 / 에러 무엇이든 무조건 실행되는 구문 \n",
    "try:\n",
    "    print(\"한 자리 숫자 나누기 전용 계산기\")\n",
    "    num1 = int(input(\"첫번째 숫자 : \"))\n",
    "    num2 = int(input(\"두번째 숫자 : \"))\n",
    "    if num1>10 or num2>=10:\n",
    "        raise BigNumberError(\"입력값 : {}, {}\".format(str(num1),str(num2)))\n",
    "    print(\" {} / {} = {}\".format(num1,num2,num1/num2))\n",
    "    \n",
    "except ValueError:\n",
    "    print(\"잘못된 값을 입력하였습니다. 한 자리 숫자만 입력하세요.\")\n",
    "    \n",
    "except BigNumberError as err:\n",
    "    print(\"에러가 발생했습니다. 한자리 숫자만 입력하세용\")\n",
    "    print(err)\n",
    "    \n",
    "finally:\n",
    "    print(\"계산기를 이용해 주셔서 감사합니다\")"
   ]
  },
  {
   "cell_type": "code",
   "execution_count": null,
   "metadata": {},
   "outputs": [],
   "source": [
    "# 퀴즈 : 치킨집 문제 \n",
    "# 대기 손님의 치킨 요리 시간을 줄이고자 자동 주문 시스템을 제작하였습니다. 시스템 코드를 확인하고 적절한 예외처리 구문을 넣으시오\n",
    "\n",
    "# 조건1 : 1보다 작거나 숫자가 아닌 입력값이 들어올때는 ValueError처리 - > 잘못된 값을 입력하였습니다\n",
    "# 조건2 : 대기 손님이 주문할 수 있는 총 치킨양은 10마리로 한정, 치킨 소진 시 사용자 정의 에러 SoldOutError를 발생시키고 프로그램 종료 -- > 재고가 소진되어 더 이상 주문을 받지 않습니다\n"
   ]
  },
  {
   "cell_type": "code",
   "execution_count": null,
   "metadata": {},
   "outputs": [],
   "source": [
    "class SoldOut(Exception):\n",
    "    def __init__(self):\n",
    "        pass\n",
    "        \n",
    "\n",
    "\n",
    "chicken = 10\n",
    "wating =1\n",
    "while True:\n",
    "    print(\"남은 치킨 : {} \".format(chicken))\n",
    "    try:\n",
    "        order = int(input(\" 몇 마리 주문하시겠습니까 ? \"))\n",
    "        if (order <1) or (type(order) != int):\n",
    "            raise ValueError\n",
    "        \n",
    "        elif order>chicken:\n",
    "            print(\"재료가 부족합니다\")\n",
    "        \n",
    "        else:\n",
    "            chicken = chicken-order\n",
    "            print(\"[ 대기번호 : {} ]  {}마리 주문이 완료되었습니다\".format(wating,order))\n",
    "            wating+=1\n",
    "            \n",
    "        if chicken==0:\n",
    "            raise SoldOut\n",
    "            \n",
    "    \n",
    "            \n",
    "    except ValueError:\n",
    "        print(\"잘못된 값을 입력하였습니다\")\n",
    "        \n",
    "    except SoldOut as sd:\n",
    "        print(\"재고가 소진되어 더이상 주문을 받지 않습니다\")\n",
    "        break\n",
    "        \n",
    "        \n",
    "    \n",
    "    \n"
   ]
  },
  {
   "cell_type": "code",
   "execution_count": null,
   "metadata": {},
   "outputs": [],
   "source": []
  },
  {
   "cell_type": "code",
   "execution_count": null,
   "metadata": {},
   "outputs": [],
   "source": []
  }
 ],
 "metadata": {
  "kernelspec": {
   "display_name": "Python 3.9.7 ('base')",
   "language": "python",
   "name": "python3"
  },
  "language_info": {
   "codemirror_mode": {
    "name": "ipython",
    "version": 3
   },
   "file_extension": ".py",
   "mimetype": "text/x-python",
   "name": "python",
   "nbconvert_exporter": "python",
   "pygments_lexer": "ipython3",
   "version": "3.9.7"
  },
  "orig_nbformat": 4,
  "vscode": {
   "interpreter": {
    "hash": "8df4e0e0c796e2e15924145e6441c62a115ba500877f31d29fc14fd3395fcd67"
   }
  }
 },
 "nbformat": 4,
 "nbformat_minor": 2
}
