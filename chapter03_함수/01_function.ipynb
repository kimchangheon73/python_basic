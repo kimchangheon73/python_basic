{
 "cells": [
  {
   "cell_type": "code",
   "execution_count": null,
   "metadata": {},
   "outputs": [],
   "source": [
    "# 함수 : 특정한 기능을 수행하기 위한 코드 \n",
    "def open_account():\n",
    "    print(\"새로운 계좌가 생성되었습니다\")\n",
    "\n",
    "def deposit(balence, price):\n",
    "    print(\"입금이 완료되었습니다. 잔액은 {}원입니다\".format(balence+price))\n",
    "    return balence+price\n",
    "\n",
    "def withdraw(balence,price):\n",
    "    if price<=balence:\n",
    "        print(\"출금이 완료되었습니다. 잔액은 {}\".format(balence-price))\n",
    "        return balence-price\n",
    "    else:\n",
    "        print(\"출금이 완료되지 않았습니다. 잔액 : {}\".format(balence))\n",
    "        return balence\n",
    "    \n",
    "def withdraw_night(balence,price):\n",
    "    commit = 500\n",
    "    if price+commit<=balence:\n",
    "        print(\"출금이 완료되었습니다. 잔액은 {}\".format(balence-price-commit))\n",
    "        return balence-price\n",
    "    else:\n",
    "        print(\"출금이 완료되지 않았습니다. 잔액 : {}\".format(balence))\n",
    "        return balence\n",
    "    \n",
    "balence = 1000                          # 잔액\n",
    "balence = deposit(balence,1000)         # 천원 입금\n",
    "balence = withdraw(balence, 1000)       # 천원 출금\n",
    "balence = withdraw(balence,500)         # 오백원 출금\n",
    "balence = withdraw_night(balence,500)   # 수수료 포함 오백원 출금 "
   ]
  },
  {
   "cell_type": "code",
   "execution_count": null,
   "metadata": {},
   "outputs": [],
   "source": [
    "# 함수 기본 값 \n",
    "def profile(name, age, main_lang):\n",
    "    print(\"이름 : {}\\t나이 : {}\\t주 사용 언어 : {}\"\\\n",
    "        .format(name, age, main_lang))\n",
    "    \n",
    "profile(\"유재석\",20,\"파이썬\")\n",
    "profile(\"김태호\",25,\"자바\")\n",
    "\n",
    "# ex: 같은 학교/학년/수업\n",
    "def profile_school(name, age=19, main_sub = \"파이썬\"):\n",
    "    print(\"이름 : {}\\t나이 : {}\\t주 사용 언어 : {}\"\\\n",
    "        .format(name, age, main_sub))\n",
    "    \n",
    "profile_school(\"김창현\")\n",
    "profile_school(\"김태호\")"
   ]
  },
  {
   "cell_type": "code",
   "execution_count": null,
   "metadata": {},
   "outputs": [],
   "source": [
    "# 키워드를 이용한 함수 호출\n",
    "def profile(name, age, main_lang):\n",
    "    print(name,age,main_lang)\n",
    "    \n",
    "profile(name=\"유재석\",main_lang=\"파이썬\",age=20)\n",
    "profile(main_lang=\"파이썬\",age=20,name=\"유재석\")"
   ]
  },
  {
   "cell_type": "code",
   "execution_count": null,
   "metadata": {},
   "outputs": [],
   "source": [
    "# 가변인자 : *args\n",
    "def profile(name, age, *args ):\n",
    "    print(\"이름 : {}\\t나이 : {}\\t\".format(name,age), end=\" \")\n",
    "    for i in args:\n",
    "        print(i,end=\" \")\n",
    "    print(\"\")\n",
    "    \n",
    "profile(\"유재석\",20,\"1\",\"2\",\"3\")\n",
    "profile(\"유재석\",20,\"1\")"
   ]
  },
  {
   "cell_type": "code",
   "execution_count": null,
   "metadata": {},
   "outputs": [],
   "source": [
    "# 지역변수와 전역변수 \n",
    "# 지역변수 : 특정 기능 내에서만 사용 가능한 변수 \n",
    "# 전역변수 : 모든 곳에서 사용 가능한 변수 \n",
    "\n",
    "gun = 10\n",
    "def check(soilder):\n",
    "    global gun    # 전역공간에 있는 gun변수 사용\n",
    "    gun = gun - soilder\n",
    "    print(\"[함수 내] 남은 총 : {} \".format(gun) )\n",
    "\n",
    "print(\"전체 총 : {}\".format(gun))\n",
    "check(2)\n",
    "print(\"남은 총 : {}\".format(gun))"
   ]
  },
  {
   "cell_type": "code",
   "execution_count": null,
   "metadata": {},
   "outputs": [],
   "source": [
    "# 함수 퀴즈 \n",
    "'''\n",
    "표준 체중을 구하는 프로그램\n",
    "    남자 : 키(m) * 키(m) *22\n",
    "    여자 : 키(m) * 키(m) *21\n",
    "\n",
    "    조건 : 표준 체중은 별도의 함수에서 계산 \n",
    "        - 함수 명 : std_weight\n",
    "        - 전달 값 : height, gender\n",
    "    조건 : 소수점 둘째자리까지 출력\n",
    "\n",
    "예제 : 키 Xcm 남자의 표준 체중은 XX.XXkg 입니다\n",
    "'''\n",
    "\n",
    "def std_weight(height, gender):\n",
    "    if gender == \"남자\":\n",
    "       return round((height/100)*(height/100)*22,2)\n",
    "    else:\n",
    "       return round((height/100)*(height/100)*21,2)\n",
    "\n",
    "height = 175\n",
    "weight = std_weight(height=height, gender=\"남자\")\n",
    "print(f'키 {height}cm 남자의 표준 체중은 {weight}kg 입니다')"
   ]
  },
  {
   "cell_type": "code",
   "execution_count": null,
   "metadata": {},
   "outputs": [],
   "source": []
  }
 ],
 "metadata": {
  "kernelspec": {
   "display_name": "Python 3.9.7 ('base')",
   "language": "python",
   "name": "python3"
  },
  "language_info": {
   "codemirror_mode": {
    "name": "ipython",
    "version": 3
   },
   "file_extension": ".py",
   "mimetype": "text/x-python",
   "name": "python",
   "nbconvert_exporter": "python",
   "pygments_lexer": "ipython3",
   "version": "3.9.7"
  },
  "orig_nbformat": 4,
  "vscode": {
   "interpreter": {
    "hash": "8df4e0e0c796e2e15924145e6441c62a115ba500877f31d29fc14fd3395fcd67"
   }
  }
 },
 "nbformat": 4,
 "nbformat_minor": 2
}
