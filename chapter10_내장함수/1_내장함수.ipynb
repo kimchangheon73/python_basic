{
 "cells": [
  {
   "cell_type": "markdown",
   "metadata": {},
   "source": [
    "## list of python builtins : 파이썬 내장함수 검색 페이지"
   ]
  },
  {
   "cell_type": "code",
   "execution_count": 6,
   "metadata": {},
   "outputs": [],
   "source": [
    "# 내장함수 : 따로 선언 없이 바로 사용이 가능함 함수\n",
    "\n",
    "# input : 사용자 입력  함수 \n",
    "\n",
    "# dir : 객체를 넘겨 줬을 때 객체가 가진 변수와 함수를 표시\n",
    "print(dir())        # 기본 함수\n",
    "import random       # 외부 함수 호출\n",
    "print(dir())        # 함수가 추가됨 \n",
    "import pickle\n",
    "print(dir())\n",
    "print(dir(random))  # random 내에서 사용이 가능한 함수 표시 \n",
    "List=[1,2,3]        # 리스트 선언\n",
    "print(dir(List))    # 리스트가 사용가능한 함수 표시 \n",
    "name =\"kim\"         # 문자열 선언\n",
    "print(dir(name))    # 문자열이 사용가능한 함수 표시\n"
   ]
  }
 ],
 "metadata": {
  "kernelspec": {
   "display_name": "Python 3.9.7 ('base')",
   "language": "python",
   "name": "python3"
  },
  "language_info": {
   "codemirror_mode": {
    "name": "ipython",
    "version": 3
   },
   "file_extension": ".py",
   "mimetype": "text/x-python",
   "name": "python",
   "nbconvert_exporter": "python",
   "pygments_lexer": "ipython3",
   "version": "3.9.7"
  },
  "orig_nbformat": 4,
  "vscode": {
   "interpreter": {
    "hash": "8df4e0e0c796e2e15924145e6441c62a115ba500877f31d29fc14fd3395fcd67"
   }
  }
 },
 "nbformat": 4,
 "nbformat_minor": 2
}
