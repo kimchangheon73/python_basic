{
 "cells": [
  {
   "cell_type": "code",
   "execution_count": 1,
   "metadata": {},
   "outputs": [
    {
     "name": "stdout",
     "output_type": "stream",
     "text": [
      "그냥 나가세요\n"
     ]
    }
   ],
   "source": [
    "weather = input(\"how is the today weather?\")\n",
    "\n",
    "if weather==\"비\":\n",
    "    print(\"우산을 챙기세요\")\n",
    "elif weather==\"미세먼지\":\n",
    "    print(\"마스크를 챙기세요\")\n",
    "else:\n",
    "    print(\"그냥 나가세요\")"
   ]
  },
  {
   "cell_type": "code",
   "execution_count": 2,
   "metadata": {},
   "outputs": [
    {
     "name": "stdout",
     "output_type": "stream",
     "text": [
      "it's iceAGe\n"
     ]
    }
   ],
   "source": [
    "temp = int(input(\"how is the temp?\"))\n",
    "\n",
    "if temp<0:\n",
    "    print(\"it's iceAGe\")\n",
    "elif temp<=10:\n",
    "    print(\"so cold. don't go out\")\n",
    "elif temp<=30:\n",
    "    print(\"it's so good\")\n",
    "else:\n",
    "    print(\"that is too hot\")"
   ]
  },
  {
   "cell_type": "code",
   "execution_count": null,
   "metadata": {},
   "outputs": [],
   "source": []
  }
 ],
 "metadata": {
  "kernelspec": {
   "display_name": "Python 3.9.7 ('base')",
   "language": "python",
   "name": "python3"
  },
  "language_info": {
   "codemirror_mode": {
    "name": "ipython",
    "version": 3
   },
   "file_extension": ".py",
   "mimetype": "text/x-python",
   "name": "python",
   "nbconvert_exporter": "python",
   "pygments_lexer": "ipython3",
   "version": "3.9.7"
  },
  "orig_nbformat": 4,
  "vscode": {
   "interpreter": {
    "hash": "8df4e0e0c796e2e15924145e6441c62a115ba500877f31d29fc14fd3395fcd67"
   }
  }
 },
 "nbformat": 4,
 "nbformat_minor": 2
}
