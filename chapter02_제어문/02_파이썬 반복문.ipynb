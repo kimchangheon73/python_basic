{
 "cells": [
  {
   "cell_type": "code",
   "execution_count": null,
   "metadata": {},
   "outputs": [],
   "source": [
    "for waiting_num in [0,1,2,3,4,5]:\n",
    "    print(\"대기번호 : {}\".format(waiting_num+1))"
   ]
  },
  {
   "cell_type": "code",
   "execution_count": null,
   "metadata": {},
   "outputs": [],
   "source": [
    "# for문\n",
    "lists= [\"아이언맨\",\"토르\",\"아이엠 그루트\"]\n",
    "for i in lists:\n",
    "    print (\"{}님 커피나왔습니다\".format(i))"
   ]
  },
  {
   "cell_type": "code",
   "execution_count": null,
   "metadata": {},
   "outputs": [],
   "source": [
    "# while문 : 조건이 만족할때까지 반복\n",
    "customer = \"토르\"\n",
    "index = 1\n",
    "while True:\n",
    "    print (\"{}, 커피가 준비되었습니다 : 호출 {}회\".format(customer,index))\n",
    "    index+=1"
   ]
  },
  {
   "cell_type": "code",
   "execution_count": null,
   "metadata": {},
   "outputs": [],
   "source": [
    "# 입력조건이 맞을때까지 반복\n",
    "customer = \"토르\"\n",
    "person = \"\"\n",
    "\n",
    "while person!=customer:\n",
    "    print(\"{}님 주문하신 커피 나왔습니다\".format(customer))\n",
    "    person = input(\"성함이 어떻게 되시나요?\")"
   ]
  },
  {
   "cell_type": "code",
   "execution_count": null,
   "metadata": {},
   "outputs": [],
   "source": [
    "# continue : 지금 상황에서 끝내고 돌아가기\n",
    "# break : 지금 끝내고 아예 종료하기\n",
    "absent = [2,5]\n",
    "no_book= [7]\n",
    "for i in range(1,11):\n",
    "    if i in absent:\n",
    "        continue\n",
    "    elif i in no_book:\n",
    "        print(\"{}번 교무실로 따라와\".format(i))\n",
    "        break\n",
    "    else:\n",
    "        print(\"{}번 학생 출석\".format(i))"
   ]
  },
  {
   "cell_type": "code",
   "execution_count": null,
   "metadata": {},
   "outputs": [],
   "source": [
    "# 한줄 for문\n",
    "stu = [1,2,3,4,5]\n",
    "print(stu)\n",
    "stu = [i+100 for i in stu]\n",
    "print(stu)\n",
    "\n",
    "# 이름을 길이로 변환\n",
    "stu = [\"Iron Man\", \"Thor\", \"I am groot\"]\n",
    "print(stu)\n",
    "stu = [len(i) for i in stu]\n",
    "print(stu)\n",
    "\n",
    "# 이름을 대문자로 변환 \n",
    "stu = [\"Iron Man\", \"Thor\", \"I am groot\"]\n",
    "print(stu)\n",
    "stu = [i.upper() for i in stu]\n",
    "print(stu)\n",
    "\n",
    "# 이름을 소문자로 변환 \n",
    "stu = [\"Iron Man\", \"Thor\", \"I am groot\"]\n",
    "print(stu)\n",
    "stu = [i.lower() for i in stu]\n",
    "print(stu)"
   ]
  },
  {
   "cell_type": "markdown",
   "metadata": {},
   "source": [
    "## 퀴즈 : 50명의 승객과 매칭 기회가 있을 때, 총 탑승 승객 수를 구하는 프로그램을 작성하시오\n",
    "        - 조건 : 운행 소요 시간은 5~ 50분 사이의 난수로 정해짐\n",
    "        - 조건 : 5~15분 사이의 승객만 매칭해야 한다.\n",
    "\n",
    "        [탑승여부] i번째 손님 (소요시간 : x분)\n",
    "        ;;;;;\n",
    "        총 탑습 승객 : y분"
   ]
  },
  {
   "cell_type": "code",
   "execution_count": 23,
   "metadata": {},
   "outputs": [
    {
     "name": "stdout",
     "output_type": "stream",
     "text": [
      "[ ] 1번째 손님 (소요시간 : 38분)\n",
      "[ ] 2번째 손님 (소요시간 : 37분)\n",
      "[ ] 3번째 손님 (소요시간 : 31분)\n",
      "[ ] 4번째 손님 (소요시간 : 44분)\n",
      "[ ] 5번째 손님 (소요시간 : 41분)\n",
      "[ ] 6번째 손님 (소요시간 : 29분)\n",
      "[O] 7번째 손님 (소요시간 : 12분)\n",
      "[ ] 8번째 손님 (소요시간 : 45분)\n",
      "[O] 9번째 손님 (소요시간 : 15분)\n",
      "[ ] 10번째 손님 (소요시간 : 41분)\n",
      "[ ] 11번째 손님 (소요시간 : 24분)\n",
      "[ ] 12번째 손님 (소요시간 : 34분)\n",
      "[ ] 13번째 손님 (소요시간 : 40분)\n",
      "[O] 14번째 손님 (소요시간 : 10분)\n",
      "[ ] 15번째 손님 (소요시간 : 36분)\n",
      "[O] 16번째 손님 (소요시간 : 11분)\n",
      "[ ] 17번째 손님 (소요시간 : 43분)\n",
      "[ ] 18번째 손님 (소요시간 : 47분)\n",
      "[ ] 19번째 손님 (소요시간 : 36분)\n",
      "[ ] 20번째 손님 (소요시간 : 36분)\n",
      "[ ] 21번째 손님 (소요시간 : 29분)\n",
      "[O] 22번째 손님 (소요시간 : 5분)\n",
      "[ ] 23번째 손님 (소요시간 : 48분)\n",
      "[ ] 24번째 손님 (소요시간 : 35분)\n",
      "[ ] 25번째 손님 (소요시간 : 36분)\n",
      "[O] 26번째 손님 (소요시간 : 15분)\n",
      "[O] 27번째 손님 (소요시간 : 7분)\n",
      "[ ] 28번째 손님 (소요시간 : 46분)\n",
      "[ ] 29번째 손님 (소요시간 : 31분)\n",
      "[ ] 30번째 손님 (소요시간 : 35분)\n",
      "[O] 31번째 손님 (소요시간 : 5분)\n",
      "[ ] 32번째 손님 (소요시간 : 18분)\n",
      "[ ] 33번째 손님 (소요시간 : 31분)\n",
      "[ ] 34번째 손님 (소요시간 : 49분)\n",
      "[O] 35번째 손님 (소요시간 : 12분)\n",
      "[ ] 36번째 손님 (소요시간 : 45분)\n",
      "[ ] 37번째 손님 (소요시간 : 45분)\n",
      "[ ] 38번째 손님 (소요시간 : 33분)\n",
      "[ ] 39번째 손님 (소요시간 : 16분)\n",
      "[ ] 40번째 손님 (소요시간 : 32분)\n",
      "[O] 41번째 손님 (소요시간 : 14분)\n",
      "[ ] 42번째 손님 (소요시간 : 36분)\n",
      "[ ] 43번째 손님 (소요시간 : 36분)\n",
      "[ ] 44번째 손님 (소요시간 : 16분)\n",
      "[ ] 45번째 손님 (소요시간 : 36분)\n",
      "[O] 46번째 손님 (소요시간 : 12분)\n",
      "[ ] 47번째 손님 (소요시간 : 30분)\n",
      "[O] 48번째 손님 (소요시간 : 9분)\n",
      "[ ] 49번째 손님 (소요시간 : 25분)\n",
      "[O] 50번째 손님 (소요시간 : 14분)\n",
      "총 탑승 승객 : 13\n"
     ]
    }
   ],
   "source": [
    "import random as rd\n",
    "total = 0\n",
    "for i in range(1,51):\n",
    "    time = rd.randrange(5,51)\n",
    "    YN = \" \"\n",
    "    if time >=5 and time <=15:\n",
    "        YN = \"O\"\n",
    "        total+=1\n",
    "    else:\n",
    "        pass\n",
    "    print(f\"[{YN}] {i}번째 손님 (소요시간 : {time}분)\")\n",
    "print(\"총 탑승 승객 : %d\"%total)"
   ]
  },
  {
   "cell_type": "code",
   "execution_count": null,
   "metadata": {},
   "outputs": [],
   "source": []
  }
 ],
 "metadata": {
  "kernelspec": {
   "display_name": "Python 3.9.7 ('base')",
   "language": "python",
   "name": "python3"
  },
  "language_info": {
   "codemirror_mode": {
    "name": "ipython",
    "version": 3
   },
   "file_extension": ".py",
   "mimetype": "text/x-python",
   "name": "python",
   "nbconvert_exporter": "python",
   "pygments_lexer": "ipython3",
   "version": "3.9.7"
  },
  "orig_nbformat": 4,
  "vscode": {
   "interpreter": {
    "hash": "8df4e0e0c796e2e15924145e6441c62a115ba500877f31d29fc14fd3395fcd67"
   }
  }
 },
 "nbformat": 4,
 "nbformat_minor": 2
}
